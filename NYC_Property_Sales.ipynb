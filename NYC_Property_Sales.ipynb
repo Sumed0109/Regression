{
 "cells": [
  {
   "cell_type": "markdown",
   "metadata": {},
   "source": [
    "# NYC Property Sales\n",
    "\n",
    "This dataset is a record of every building or building unit (apartment, etc.) sold in the New York City property market over a 12-month period. This data is about properties sold in New York City over a 12-month period from September 2016 to September 2017.\n",
    "\n",
    "Content\n",
    "\n",
    "This dataset contains the location, address, type, sale price, and sale date of building units sold. A reference on the trickier fields:\n",
    "\n",
    "BOROUGH: A digit code for the borough the property is located in; in order these are Manhattan (1), Bronx (2), Brooklyn (3), Queens (4), and Staten Island (5).\n",
    "BLOCK; LOT: The combination of borough, block, and lot forms a unique key for property in New York City. Commonly called a BBL.\n",
    "BUILDING CLASS AT PRESENT and BUILDING CLASS AT TIME OF SALE: The type of building at various points in time. See the glossary linked to below.\n",
    "\n",
    "Task :\n",
    "Can you spot trends in the market, or build a model that predicts sale value in the future"
   ]
  },
  {
   "cell_type": "markdown",
   "metadata": {},
   "source": [
    "# 1.Loading libraries and Dataset"
   ]
  },
  {
   "cell_type": "code",
   "execution_count": 1,
   "metadata": {},
   "outputs": [],
   "source": [
    "import pandas as pd \n",
    "import numpy as np \n",
    "import matplotlib.pyplot as plt \n",
    "import seaborn as sns\n",
    "from prettytable import PrettyTable\n",
    "%matplotlib inline  \n",
    "import warnings\n",
    "warnings.filterwarnings(\"ignore\")\n",
    "\n",
    "#import the necessary modelling algos.\n",
    "from sklearn.model_selection import KFold\n",
    "from sklearn.model_selection import train_test_split \n",
    "from sklearn.model_selection import GridSearchCV\n",
    "from sklearn.model_selection import RandomizedSearchCV\n",
    "from sklearn.model_selection import cross_val_score\n",
    "from sklearn.preprocessing import StandardScaler\n",
    "\n",
    "from sklearn.linear_model import LinearRegression \n",
    "from sklearn.linear_model import Lasso\n",
    "from sklearn.linear_model import Ridge\n",
    "from sklearn.ensemble import RandomForestRegressor\n",
    "from xgboost.sklearn import XGBRegressor\n",
    "import xgboost as xgb\n",
    "\n",
    "from sklearn import metrics\n",
    "from sklearn.metrics import mean_squared_error\n",
    "from scipy import stats"
   ]
  },
  {
   "cell_type": "code",
   "execution_count": 2,
   "metadata": {},
   "outputs": [
    {
     "data": {
      "text/plain": [
       "(84548, 22)"
      ]
     },
     "execution_count": 2,
     "metadata": {},
     "output_type": "execute_result"
    }
   ],
   "source": [
    "# Import dataset\n",
    "\n",
    "df = pd.read_csv(r\"D:\\Data Science\\Projects\\NYC-Sales\\nyc-sales.csv\")\n",
    "df.shape"
   ]
  },
  {
   "cell_type": "code",
   "execution_count": 3,
   "metadata": {},
   "outputs": [
    {
     "data": {
      "text/html": [
       "<div>\n",
       "<style scoped>\n",
       "    .dataframe tbody tr th:only-of-type {\n",
       "        vertical-align: middle;\n",
       "    }\n",
       "\n",
       "    .dataframe tbody tr th {\n",
       "        vertical-align: top;\n",
       "    }\n",
       "\n",
       "    .dataframe thead th {\n",
       "        text-align: right;\n",
       "    }\n",
       "</style>\n",
       "<table border=\"1\" class=\"dataframe\">\n",
       "  <thead>\n",
       "    <tr style=\"text-align: right;\">\n",
       "      <th></th>\n",
       "      <th>Unnamed: 0</th>\n",
       "      <th>BOROUGH</th>\n",
       "      <th>NEIGHBORHOOD</th>\n",
       "      <th>BUILDING CLASS CATEGORY</th>\n",
       "      <th>TAX CLASS AT PRESENT</th>\n",
       "      <th>BLOCK</th>\n",
       "      <th>LOT</th>\n",
       "      <th>EASE-MENT</th>\n",
       "      <th>BUILDING CLASS AT PRESENT</th>\n",
       "      <th>ADDRESS</th>\n",
       "      <th>...</th>\n",
       "      <th>RESIDENTIAL UNITS</th>\n",
       "      <th>COMMERCIAL UNITS</th>\n",
       "      <th>TOTAL UNITS</th>\n",
       "      <th>LAND SQUARE FEET</th>\n",
       "      <th>GROSS SQUARE FEET</th>\n",
       "      <th>YEAR BUILT</th>\n",
       "      <th>TAX CLASS AT TIME OF SALE</th>\n",
       "      <th>BUILDING CLASS AT TIME OF SALE</th>\n",
       "      <th>SALE PRICE</th>\n",
       "      <th>SALE DATE</th>\n",
       "    </tr>\n",
       "  </thead>\n",
       "  <tbody>\n",
       "    <tr>\n",
       "      <th>0</th>\n",
       "      <td>4</td>\n",
       "      <td>1</td>\n",
       "      <td>ALPHABET CITY</td>\n",
       "      <td>07 RENTALS - WALKUP APARTMENTS</td>\n",
       "      <td>2A</td>\n",
       "      <td>392</td>\n",
       "      <td>6</td>\n",
       "      <td></td>\n",
       "      <td>C2</td>\n",
       "      <td>153 AVENUE B</td>\n",
       "      <td>...</td>\n",
       "      <td>5</td>\n",
       "      <td>0</td>\n",
       "      <td>5</td>\n",
       "      <td>1633</td>\n",
       "      <td>6440</td>\n",
       "      <td>1900</td>\n",
       "      <td>2</td>\n",
       "      <td>C2</td>\n",
       "      <td>6625000</td>\n",
       "      <td>2017-07-19 00:00:00</td>\n",
       "    </tr>\n",
       "    <tr>\n",
       "      <th>1</th>\n",
       "      <td>5</td>\n",
       "      <td>1</td>\n",
       "      <td>ALPHABET CITY</td>\n",
       "      <td>07 RENTALS - WALKUP APARTMENTS</td>\n",
       "      <td>2</td>\n",
       "      <td>399</td>\n",
       "      <td>26</td>\n",
       "      <td></td>\n",
       "      <td>C7</td>\n",
       "      <td>234 EAST 4TH   STREET</td>\n",
       "      <td>...</td>\n",
       "      <td>28</td>\n",
       "      <td>3</td>\n",
       "      <td>31</td>\n",
       "      <td>4616</td>\n",
       "      <td>18690</td>\n",
       "      <td>1900</td>\n",
       "      <td>2</td>\n",
       "      <td>C7</td>\n",
       "      <td>-</td>\n",
       "      <td>2016-12-14 00:00:00</td>\n",
       "    </tr>\n",
       "    <tr>\n",
       "      <th>2</th>\n",
       "      <td>6</td>\n",
       "      <td>1</td>\n",
       "      <td>ALPHABET CITY</td>\n",
       "      <td>07 RENTALS - WALKUP APARTMENTS</td>\n",
       "      <td>2</td>\n",
       "      <td>399</td>\n",
       "      <td>39</td>\n",
       "      <td></td>\n",
       "      <td>C7</td>\n",
       "      <td>197 EAST 3RD   STREET</td>\n",
       "      <td>...</td>\n",
       "      <td>16</td>\n",
       "      <td>1</td>\n",
       "      <td>17</td>\n",
       "      <td>2212</td>\n",
       "      <td>7803</td>\n",
       "      <td>1900</td>\n",
       "      <td>2</td>\n",
       "      <td>C7</td>\n",
       "      <td>-</td>\n",
       "      <td>2016-12-09 00:00:00</td>\n",
       "    </tr>\n",
       "    <tr>\n",
       "      <th>3</th>\n",
       "      <td>7</td>\n",
       "      <td>1</td>\n",
       "      <td>ALPHABET CITY</td>\n",
       "      <td>07 RENTALS - WALKUP APARTMENTS</td>\n",
       "      <td>2B</td>\n",
       "      <td>402</td>\n",
       "      <td>21</td>\n",
       "      <td></td>\n",
       "      <td>C4</td>\n",
       "      <td>154 EAST 7TH STREET</td>\n",
       "      <td>...</td>\n",
       "      <td>10</td>\n",
       "      <td>0</td>\n",
       "      <td>10</td>\n",
       "      <td>2272</td>\n",
       "      <td>6794</td>\n",
       "      <td>1913</td>\n",
       "      <td>2</td>\n",
       "      <td>C4</td>\n",
       "      <td>3936272</td>\n",
       "      <td>2016-09-23 00:00:00</td>\n",
       "    </tr>\n",
       "    <tr>\n",
       "      <th>4</th>\n",
       "      <td>8</td>\n",
       "      <td>1</td>\n",
       "      <td>ALPHABET CITY</td>\n",
       "      <td>07 RENTALS - WALKUP APARTMENTS</td>\n",
       "      <td>2A</td>\n",
       "      <td>404</td>\n",
       "      <td>55</td>\n",
       "      <td></td>\n",
       "      <td>C2</td>\n",
       "      <td>301 EAST 10TH   STREET</td>\n",
       "      <td>...</td>\n",
       "      <td>6</td>\n",
       "      <td>0</td>\n",
       "      <td>6</td>\n",
       "      <td>2369</td>\n",
       "      <td>4615</td>\n",
       "      <td>1900</td>\n",
       "      <td>2</td>\n",
       "      <td>C2</td>\n",
       "      <td>8000000</td>\n",
       "      <td>2016-11-17 00:00:00</td>\n",
       "    </tr>\n",
       "  </tbody>\n",
       "</table>\n",
       "<p>5 rows × 22 columns</p>\n",
       "</div>"
      ],
      "text/plain": [
       "   Unnamed: 0  BOROUGH   NEIGHBORHOOD  \\\n",
       "0           4        1  ALPHABET CITY   \n",
       "1           5        1  ALPHABET CITY   \n",
       "2           6        1  ALPHABET CITY   \n",
       "3           7        1  ALPHABET CITY   \n",
       "4           8        1  ALPHABET CITY   \n",
       "\n",
       "                       BUILDING CLASS CATEGORY TAX CLASS AT PRESENT  BLOCK  \\\n",
       "0  07 RENTALS - WALKUP APARTMENTS                                2A    392   \n",
       "1  07 RENTALS - WALKUP APARTMENTS                                 2    399   \n",
       "2  07 RENTALS - WALKUP APARTMENTS                                 2    399   \n",
       "3  07 RENTALS - WALKUP APARTMENTS                                2B    402   \n",
       "4  07 RENTALS - WALKUP APARTMENTS                                2A    404   \n",
       "\n",
       "   LOT EASE-MENT BUILDING CLASS AT PRESENT                 ADDRESS  ...  \\\n",
       "0    6                                  C2            153 AVENUE B  ...   \n",
       "1   26                                  C7   234 EAST 4TH   STREET  ...   \n",
       "2   39                                  C7   197 EAST 3RD   STREET  ...   \n",
       "3   21                                  C4     154 EAST 7TH STREET  ...   \n",
       "4   55                                  C2  301 EAST 10TH   STREET  ...   \n",
       "\n",
       "  RESIDENTIAL UNITS  COMMERCIAL UNITS  TOTAL UNITS  LAND SQUARE FEET  \\\n",
       "0                 5                 0            5              1633   \n",
       "1                28                 3           31              4616   \n",
       "2                16                 1           17              2212   \n",
       "3                10                 0           10              2272   \n",
       "4                 6                 0            6              2369   \n",
       "\n",
       "   GROSS SQUARE FEET YEAR BUILT TAX CLASS AT TIME OF SALE  \\\n",
       "0               6440       1900                         2   \n",
       "1              18690       1900                         2   \n",
       "2               7803       1900                         2   \n",
       "3               6794       1913                         2   \n",
       "4               4615       1900                         2   \n",
       "\n",
       "   BUILDING CLASS AT TIME OF SALE  SALE PRICE            SALE DATE  \n",
       "0                              C2     6625000  2017-07-19 00:00:00  \n",
       "1                              C7         -    2016-12-14 00:00:00  \n",
       "2                              C7         -    2016-12-09 00:00:00  \n",
       "3                              C4     3936272  2016-09-23 00:00:00  \n",
       "4                              C2     8000000  2016-11-17 00:00:00  \n",
       "\n",
       "[5 rows x 22 columns]"
      ]
     },
     "execution_count": 3,
     "metadata": {},
     "output_type": "execute_result"
    }
   ],
   "source": [
    "df.head()"
   ]
  },
  {
   "cell_type": "markdown",
   "metadata": {},
   "source": [
    "# 2.Data Inspection & Visualization"
   ]
  },
  {
   "cell_type": "code",
   "execution_count": 4,
   "metadata": {},
   "outputs": [],
   "source": [
    "#Dropping column as it is empty\n",
    "del df['Unnamed: 0']\n",
    "#Dropping few columns\n",
    "del df['BUILDING CLASS AT PRESENT']\n",
    "del df['BUILDING CLASS AT TIME OF SALE']\n",
    "del df['NEIGHBORHOOD']\n",
    "del df['SALE DATE']\n",
    "del df['EASE-MENT']\n",
    "del df['ADDRESS']\n",
    "del df['APARTMENT NUMBER']"
   ]
  },
  {
   "cell_type": "code",
   "execution_count": 5,
   "metadata": {},
   "outputs": [
    {
     "name": "stdout",
     "output_type": "stream",
     "text": [
      "<class 'pandas.core.frame.DataFrame'>\n",
      "RangeIndex: 84548 entries, 0 to 84547\n",
      "Data columns (total 14 columns):\n",
      " #   Column                     Non-Null Count  Dtype \n",
      "---  ------                     --------------  ----- \n",
      " 0   BOROUGH                    84548 non-null  int64 \n",
      " 1   BUILDING CLASS CATEGORY    84548 non-null  object\n",
      " 2   TAX CLASS AT PRESENT       84548 non-null  object\n",
      " 3   BLOCK                      84548 non-null  int64 \n",
      " 4   LOT                        84548 non-null  int64 \n",
      " 5   ZIP CODE                   84548 non-null  int64 \n",
      " 6   RESIDENTIAL UNITS          84548 non-null  int64 \n",
      " 7   COMMERCIAL UNITS           84548 non-null  int64 \n",
      " 8   TOTAL UNITS                84548 non-null  int64 \n",
      " 9   LAND SQUARE FEET           84548 non-null  object\n",
      " 10  GROSS SQUARE FEET          84548 non-null  object\n",
      " 11  YEAR BUILT                 84548 non-null  int64 \n",
      " 12  TAX CLASS AT TIME OF SALE  84548 non-null  int64 \n",
      " 13  SALE PRICE                 84548 non-null  object\n",
      "dtypes: int64(9), object(5)\n",
      "memory usage: 9.0+ MB\n"
     ]
    }
   ],
   "source": [
    "df.info()"
   ]
  },
  {
   "cell_type": "code",
   "execution_count": 6,
   "metadata": {},
   "outputs": [],
   "source": [
    "#Let's convert some of the columns to appropriate datatype\n",
    "\n",
    "df['TAX CLASS AT TIME OF SALE'] = df['TAX CLASS AT TIME OF SALE'].astype('category')\n",
    "df['TAX CLASS AT PRESENT'] = df['TAX CLASS AT PRESENT'].astype('category')\n",
    "df['LAND SQUARE FEET'] = pd.to_numeric(df['LAND SQUARE FEET'], errors='coerce')\n",
    "df['GROSS SQUARE FEET']= pd.to_numeric(df['GROSS SQUARE FEET'], errors='coerce')\n",
    "df['SALE PRICE'] = pd.to_numeric(df['SALE PRICE'], errors='coerce')\n",
    "df['BOROUGH'] = df['BOROUGH'].astype('category')"
   ]
  },
  {
   "cell_type": "code",
   "execution_count": 7,
   "metadata": {},
   "outputs": [
    {
     "name": "stdout",
     "output_type": "stream",
     "text": [
      "<class 'pandas.core.frame.DataFrame'>\n",
      "RangeIndex: 84548 entries, 0 to 84547\n",
      "Data columns (total 14 columns):\n",
      " #   Column                     Non-Null Count  Dtype   \n",
      "---  ------                     --------------  -----   \n",
      " 0   BOROUGH                    84548 non-null  category\n",
      " 1   BUILDING CLASS CATEGORY    84548 non-null  object  \n",
      " 2   TAX CLASS AT PRESENT       84548 non-null  category\n",
      " 3   BLOCK                      84548 non-null  int64   \n",
      " 4   LOT                        84548 non-null  int64   \n",
      " 5   ZIP CODE                   84548 non-null  int64   \n",
      " 6   RESIDENTIAL UNITS          84548 non-null  int64   \n",
      " 7   COMMERCIAL UNITS           84548 non-null  int64   \n",
      " 8   TOTAL UNITS                84548 non-null  int64   \n",
      " 9   LAND SQUARE FEET           58296 non-null  float64 \n",
      " 10  GROSS SQUARE FEET          56936 non-null  float64 \n",
      " 11  YEAR BUILT                 84548 non-null  int64   \n",
      " 12  TAX CLASS AT TIME OF SALE  84548 non-null  category\n",
      " 13  SALE PRICE                 69987 non-null  float64 \n",
      "dtypes: category(3), float64(3), int64(7), object(1)\n",
      "memory usage: 7.3+ MB\n"
     ]
    }
   ],
   "source": [
    "df.info()"
   ]
  },
  {
   "cell_type": "code",
   "execution_count": 8,
   "metadata": {},
   "outputs": [
    {
     "name": "stdout",
     "output_type": "stream",
     "text": [
      "Index(['LAND SQUARE FEET', 'GROSS SQUARE FEET', 'SALE PRICE'], dtype='object')\n",
      "BOROUGH                          0\n",
      "BUILDING CLASS CATEGORY          0\n",
      "TAX CLASS AT PRESENT             0\n",
      "BLOCK                            0\n",
      "LOT                              0\n",
      "ZIP CODE                         0\n",
      "RESIDENTIAL UNITS                0\n",
      "COMMERCIAL UNITS                 0\n",
      "TOTAL UNITS                      0\n",
      "LAND SQUARE FEET             26252\n",
      "GROSS SQUARE FEET            27612\n",
      "YEAR BUILT                       0\n",
      "TAX CLASS AT TIME OF SALE        0\n",
      "SALE PRICE                   14561\n",
      "dtype: int64\n"
     ]
    }
   ],
   "source": [
    "#Overview of data\n",
    "#Show no. of None values\n",
    "\n",
    "print(df.columns[df.isnull().any()])\n",
    "print(df.isnull().sum())"
   ]
  },
  {
   "cell_type": "code",
   "execution_count": 9,
   "metadata": {},
   "outputs": [
    {
     "name": "stdout",
     "output_type": "stream",
     "text": [
      "BOROUGH                      0\n",
      "BUILDING CLASS CATEGORY      0\n",
      "TAX CLASS AT PRESENT         0\n",
      "BLOCK                        0\n",
      "LOT                          0\n",
      "ZIP CODE                     0\n",
      "RESIDENTIAL UNITS            0\n",
      "COMMERCIAL UNITS             0\n",
      "TOTAL UNITS                  0\n",
      "LAND SQUARE FEET             0\n",
      "GROSS SQUARE FEET            0\n",
      "YEAR BUILT                   0\n",
      "TAX CLASS AT TIME OF SALE    0\n",
      "SALE PRICE                   0\n",
      "dtype: int64\n"
     ]
    }
   ],
   "source": [
    "#Drop missing values\n",
    "\n",
    "df.dropna(axis=0,inplace=True)\n",
    "print(df.isnull().sum())"
   ]
  },
  {
   "cell_type": "code",
   "execution_count": 10,
   "metadata": {},
   "outputs": [
    {
     "data": {
      "text/plain": [
       "1044"
      ]
     },
     "execution_count": 10,
     "metadata": {},
     "output_type": "execute_result"
    }
   ],
   "source": [
    "#Checking for duplicated entries\n",
    "\n",
    "sum(df.duplicated(df.columns))"
   ]
  },
  {
   "cell_type": "code",
   "execution_count": 11,
   "metadata": {},
   "outputs": [
    {
     "data": {
      "text/plain": [
       "0"
      ]
     },
     "execution_count": 11,
     "metadata": {},
     "output_type": "execute_result"
    }
   ],
   "source": [
    "#Delete the duplicates and check that it worked\n",
    "\n",
    "df = df.drop_duplicates(df.columns, keep='last')\n",
    "sum(df.duplicated(df.columns))"
   ]
  },
  {
   "cell_type": "code",
   "execution_count": 12,
   "metadata": {},
   "outputs": [
    {
     "data": {
      "text/plain": [
       "<matplotlib.axes._subplots.AxesSubplot at 0x275438eec10>"
      ]
     },
     "execution_count": 12,
     "metadata": {},
     "output_type": "execute_result"
    },
    {
     "data": {
      "image/png": "[encoded data removed]",
      "text/plain": [
       "<Figure size 432x288 with 2 Axes>"
      ]
     },
     "metadata": {
      "needs_background": "light"
     },
     "output_type": "display_data"
    }
   ],
   "source": [
    "#correlation between the features\n",
    "# Last row represents the correlation of different features with SALE PRICE\n",
    "\n",
    "corr = df.corr()\n",
    "sns.heatmap(corr)"
   ]
  },
  {
   "cell_type": "code",
   "execution_count": 13,
   "metadata": {},
   "outputs": [
    {
     "data": {
      "text/plain": [
       "SALE PRICE           1.000000\n",
       "GROSS SQUARE FEET    0.464202\n",
       "TOTAL UNITS          0.133246\n",
       "RESIDENTIAL UNITS    0.130590\n",
       "COMMERCIAL UNITS     0.045688\n",
       "LAND SQUARE FEET     0.042791\n",
       "YEAR BUILT           0.007595\n",
       "LOT                 -0.014661\n",
       "ZIP CODE            -0.020265\n",
       "BLOCK               -0.051996\n",
       "Name: SALE PRICE, dtype: float64"
      ]
     },
     "execution_count": 13,
     "metadata": {},
     "output_type": "execute_result"
    }
   ],
   "source": [
    "#numeric correlation\n",
    "\n",
    "corr['SALE PRICE'].sort_values(ascending=False)"
   ]
  },
  {
   "cell_type": "code",
   "execution_count": 14,
   "metadata": {},
   "outputs": [
    {
     "data": {
      "image/png": "[encoded data removed]",
      "text/plain": [
       "<Figure size 1080x432 with 1 Axes>"
      ]
     },
     "metadata": {
      "needs_background": "light"
     },
     "output_type": "display_data"
    }
   ],
   "source": [
    "plt.figure(figsize=(15,6))\n",
    "\n",
    "sns.boxplot(x='SALE PRICE', data=df[['SALE PRICE']])\n",
    "plt.ticklabel_format(style='plain', axis='x')\n",
    "plt.title('Boxplot of SALE PRICE in USD')\n",
    "plt.show()"
   ]
  },
  {
   "cell_type": "code",
   "execution_count": 15,
   "metadata": {},
   "outputs": [
    {
     "data": {
      "text/plain": [
       "<matplotlib.axes._subplots.AxesSubplot at 0x27544b77bb0>"
      ]
     },
     "execution_count": 15,
     "metadata": {},
     "output_type": "execute_result"
    },
    {
     "data": {
      "image/png": "[encoded data removed]",
      "text/plain": [
       "<Figure size 432x288 with 1 Axes>"
      ]
     },
     "metadata": {
      "needs_background": "light"
     },
     "output_type": "display_data"
    }
   ],
   "source": [
    "sns.distplot(df[['SALE PRICE']])"
   ]
  },
  {
   "cell_type": "code",
   "execution_count": 16,
   "metadata": {},
   "outputs": [],
   "source": [
    "# Remove observations that fall outside those caps\n",
    "\n",
    "df = df[(df['SALE PRICE'] > 100000) & (df['SALE PRICE'] < 5000000)]"
   ]
  },
  {
   "cell_type": "code",
   "execution_count": 17,
   "metadata": {},
   "outputs": [
    {
     "data": {
      "text/plain": [
       "<matplotlib.axes._subplots.AxesSubplot at 0x27544c039a0>"
      ]
     },
     "execution_count": 17,
     "metadata": {},
     "output_type": "execute_result"
    },
    {
     "data": {
      "image/png": "[encoded data removed]",
      "text/plain": [
       "<Figure size 432x288 with 1 Axes>"
      ]
     },
     "metadata": {
      "needs_background": "light"
     },
     "output_type": "display_data"
    }
   ],
   "source": [
    "# Plot \n",
    "\n",
    "sns.distplot(df[['SALE PRICE']])"
   ]
  },
  {
   "cell_type": "code",
   "execution_count": 18,
   "metadata": {},
   "outputs": [
    {
     "data": {
      "text/plain": [
       "2.651961209495297"
      ]
     },
     "execution_count": 18,
     "metadata": {},
     "output_type": "execute_result"
    }
   ],
   "source": [
    "#skewness of SalePrice\n",
    "\n",
    "df['SALE PRICE'].skew()"
   ]
  },
  {
   "cell_type": "code",
   "execution_count": 19,
   "metadata": {},
   "outputs": [
    {
     "name": "stdout",
     "output_type": "stream",
     "text": [
      "0.15037760544365672\n"
     ]
    },
    {
     "data": {
      "text/plain": [
       "<matplotlib.axes._subplots.AxesSubplot at 0x27544af6ca0>"
      ]
     },
     "execution_count": 19,
     "metadata": {},
     "output_type": "execute_result"
    },
    {
     "data": {
      "image/png": "[encoded data removed]",
      "text/plain": [
       "<Figure size 432x288 with 1 Axes>"
      ]
     },
     "metadata": {
      "needs_background": "light"
     },
     "output_type": "display_data"
    }
   ],
   "source": [
    "#SALE PRICE is highly right skewed. So, we will log transform it so that it give better results.\n",
    "#Well now we can see the symmetry and thus it is normalised.\n",
    "\n",
    "sales = np.log(df['SALE PRICE'] )\n",
    "\n",
    "print(sales.skew())\n",
    "sns.distplot(sales)"
   ]
  },
  {
   "cell_type": "markdown",
   "metadata": {},
   "source": [
    "# 3. Data Pre Processing"
   ]
  },
  {
   "cell_type": "code",
   "execution_count": 20,
   "metadata": {},
   "outputs": [
    {
     "name": "stdout",
     "output_type": "stream",
     "text": [
      "<class 'pandas.core.frame.DataFrame'>\n",
      "Int64Index: 34549 entries, 3 to 84545\n",
      "Data columns (total 14 columns):\n",
      " #   Column                     Non-Null Count  Dtype   \n",
      "---  ------                     --------------  -----   \n",
      " 0   BOROUGH                    34549 non-null  category\n",
      " 1   BUILDING CLASS CATEGORY    34549 non-null  object  \n",
      " 2   TAX CLASS AT PRESENT       34549 non-null  category\n",
      " 3   BLOCK                      34549 non-null  int64   \n",
      " 4   LOT                        34549 non-null  int64   \n",
      " 5   ZIP CODE                   34549 non-null  int64   \n",
      " 6   RESIDENTIAL UNITS          34549 non-null  int64   \n",
      " 7   COMMERCIAL UNITS           34549 non-null  int64   \n",
      " 8   TOTAL UNITS                34549 non-null  int64   \n",
      " 9   LAND SQUARE FEET           34549 non-null  float64 \n",
      " 10  GROSS SQUARE FEET          34549 non-null  float64 \n",
      " 11  YEAR BUILT                 34549 non-null  int64   \n",
      " 12  TAX CLASS AT TIME OF SALE  34549 non-null  category\n",
      " 13  SALE PRICE                 34549 non-null  float64 \n",
      "dtypes: category(3), float64(3), int64(7), object(1)\n",
      "memory usage: 3.3+ MB\n"
     ]
    }
   ],
   "source": [
    "df.info()"
   ]
  },
  {
   "cell_type": "markdown",
   "metadata": {},
   "source": [
    "# Normalising and Transforming Numerical columns"
   ]
  },
  {
   "cell_type": "markdown",
   "metadata": {},
   "source": [
    "### Normalising and Transforming Numerical columns"
   ]
  },
  {
   "cell_type": "code",
   "execution_count": 21,
   "metadata": {},
   "outputs": [],
   "source": [
    "Index = ['BLOCK', 'LOT', 'ZIP CODE', 'RESIDENTIAL UNITS', 'COMMERCIAL UNITS',\n",
    "       'TOTAL UNITS', 'LAND SQUARE FEET', 'GROSS SQUARE FEET', 'YEAR BUILT',\n",
    "       'SALE PRICE']\n",
    "\n",
    "for col in Index:\n",
    "    scaler = StandardScaler()\n",
    "    scaler.fit(df[col].values.reshape(-1,1))\n",
    "    df[col] = scaler.transform(df[col].values.reshape(-1,1))\n"
   ]
  },
  {
   "cell_type": "code",
   "execution_count": 22,
   "metadata": {},
   "outputs": [
    {
     "data": {
      "text/html": [
       "<div>\n",
       "<style scoped>\n",
       "    .dataframe tbody tr th:only-of-type {\n",
       "        vertical-align: middle;\n",
       "    }\n",
       "\n",
       "    .dataframe tbody tr th {\n",
       "        vertical-align: top;\n",
       "    }\n",
       "\n",
       "    .dataframe thead th {\n",
       "        text-align: right;\n",
       "    }\n",
       "</style>\n",
       "<table border=\"1\" class=\"dataframe\">\n",
       "  <thead>\n",
       "    <tr style=\"text-align: right;\">\n",
       "      <th></th>\n",
       "      <th>BOROUGH</th>\n",
       "      <th>BUILDING CLASS CATEGORY</th>\n",
       "      <th>TAX CLASS AT PRESENT</th>\n",
       "      <th>BLOCK</th>\n",
       "      <th>LOT</th>\n",
       "      <th>ZIP CODE</th>\n",
       "      <th>RESIDENTIAL UNITS</th>\n",
       "      <th>COMMERCIAL UNITS</th>\n",
       "      <th>TOTAL UNITS</th>\n",
       "      <th>LAND SQUARE FEET</th>\n",
       "      <th>GROSS SQUARE FEET</th>\n",
       "      <th>YEAR BUILT</th>\n",
       "      <th>TAX CLASS AT TIME OF SALE</th>\n",
       "      <th>SALE PRICE</th>\n",
       "    </tr>\n",
       "  </thead>\n",
       "  <tbody>\n",
       "    <tr>\n",
       "      <th>3</th>\n",
       "      <td>1</td>\n",
       "      <td>07 RENTALS - WALKUP APARTMENTS</td>\n",
       "      <td>2B</td>\n",
       "      <td>-1.334637</td>\n",
       "      <td>-0.429384</td>\n",
       "      <td>-0.980097</td>\n",
       "      <td>0.726526</td>\n",
       "      <td>-0.012859</td>\n",
       "      <td>0.483888</td>\n",
       "      <td>-0.020054</td>\n",
       "      <td>0.212617</td>\n",
       "      <td>0.138681</td>\n",
       "      <td>2</td>\n",
       "      <td>4.800169</td>\n",
       "    </tr>\n",
       "    <tr>\n",
       "      <th>6</th>\n",
       "      <td>1</td>\n",
       "      <td>07 RENTALS - WALKUP APARTMENTS</td>\n",
       "      <td>2B</td>\n",
       "      <td>-1.333537</td>\n",
       "      <td>-0.406335</td>\n",
       "      <td>-0.980097</td>\n",
       "      <td>0.550860</td>\n",
       "      <td>-0.012859</td>\n",
       "      <td>0.364593</td>\n",
       "      <td>-0.038507</td>\n",
       "      <td>0.096786</td>\n",
       "      <td>0.155713</td>\n",
       "      <td>2</td>\n",
       "      <td>3.663110</td>\n",
       "    </tr>\n",
       "    <tr>\n",
       "      <th>172</th>\n",
       "      <td>1</td>\n",
       "      <td>14 RENTALS - 4-10 UNIT</td>\n",
       "      <td>2A</td>\n",
       "      <td>-1.337663</td>\n",
       "      <td>-0.433575</td>\n",
       "      <td>-0.980097</td>\n",
       "      <td>0.111695</td>\n",
       "      <td>0.069016</td>\n",
       "      <td>0.126004</td>\n",
       "      <td>-0.046637</td>\n",
       "      <td>0.057725</td>\n",
       "      <td>0.131382</td>\n",
       "      <td>2</td>\n",
       "      <td>3.827009</td>\n",
       "    </tr>\n",
       "    <tr>\n",
       "      <th>174</th>\n",
       "      <td>1</td>\n",
       "      <td>14 RENTALS - 4-10 UNIT</td>\n",
       "      <td>2A</td>\n",
       "      <td>-1.336838</td>\n",
       "      <td>-0.462911</td>\n",
       "      <td>-0.980097</td>\n",
       "      <td>0.287361</td>\n",
       "      <td>0.069016</td>\n",
       "      <td>0.245298</td>\n",
       "      <td>-0.037482</td>\n",
       "      <td>0.073647</td>\n",
       "      <td>0.131382</td>\n",
       "      <td>2</td>\n",
       "      <td>6.044744</td>\n",
       "    </tr>\n",
       "    <tr>\n",
       "      <th>195</th>\n",
       "      <td>1</td>\n",
       "      <td>22 STORE BUILDINGS</td>\n",
       "      <td>4</td>\n",
       "      <td>-1.337938</td>\n",
       "      <td>-0.402144</td>\n",
       "      <td>-0.980097</td>\n",
       "      <td>-0.151804</td>\n",
       "      <td>0.069016</td>\n",
       "      <td>-0.052938</td>\n",
       "      <td>-0.057313</td>\n",
       "      <td>0.067919</td>\n",
       "      <td>0.104617</td>\n",
       "      <td>4</td>\n",
       "      <td>4.438798</td>\n",
       "    </tr>\n",
       "  </tbody>\n",
       "</table>\n",
       "</div>"
      ],
      "text/plain": [
       "    BOROUGH                      BUILDING CLASS CATEGORY TAX CLASS AT PRESENT  \\\n",
       "3         1  07 RENTALS - WALKUP APARTMENTS                                2B   \n",
       "6         1  07 RENTALS - WALKUP APARTMENTS                                2B   \n",
       "172       1  14 RENTALS - 4-10 UNIT                                        2A   \n",
       "174       1  14 RENTALS - 4-10 UNIT                                        2A   \n",
       "195       1  22 STORE BUILDINGS                                             4   \n",
       "\n",
       "        BLOCK       LOT  ZIP CODE  RESIDENTIAL UNITS  COMMERCIAL UNITS  \\\n",
       "3   -1.334637 -0.429384 -0.980097           0.726526         -0.012859   \n",
       "6   -1.333537 -0.406335 -0.980097           0.550860         -0.012859   \n",
       "172 -1.337663 -0.433575 -0.980097           0.111695          0.069016   \n",
       "174 -1.336838 -0.462911 -0.980097           0.287361          0.069016   \n",
       "195 -1.337938 -0.402144 -0.980097          -0.151804          0.069016   \n",
       "\n",
       "     TOTAL UNITS  LAND SQUARE FEET  GROSS SQUARE FEET  YEAR BUILT  \\\n",
       "3       0.483888         -0.020054           0.212617    0.138681   \n",
       "6       0.364593         -0.038507           0.096786    0.155713   \n",
       "172     0.126004         -0.046637           0.057725    0.131382   \n",
       "174     0.245298         -0.037482           0.073647    0.131382   \n",
       "195    -0.052938         -0.057313           0.067919    0.104617   \n",
       "\n",
       "    TAX CLASS AT TIME OF SALE  SALE PRICE  \n",
       "3                           2    4.800169  \n",
       "6                           2    3.663110  \n",
       "172                         2    3.827009  \n",
       "174                         2    6.044744  \n",
       "195                         4    4.438798  "
      ]
     },
     "execution_count": 22,
     "metadata": {},
     "output_type": "execute_result"
    }
   ],
   "source": [
    "df.head()"
   ]
  },
  {
   "cell_type": "markdown",
   "metadata": {},
   "source": [
    "### One hot encoding categorical columns"
   ]
  },
  {
   "cell_type": "code",
   "execution_count": 23,
   "metadata": {},
   "outputs": [],
   "source": [
    "#Select the variables to be one-hot encoded\n",
    "\n",
    "one_hot_features = ['BOROUGH', 'BUILDING CLASS CATEGORY','TAX CLASS AT PRESENT','TAX CLASS AT TIME OF SALE']"
   ]
  },
  {
   "cell_type": "code",
   "execution_count": 24,
   "metadata": {},
   "outputs": [
    {
     "name": "stdout",
     "output_type": "stream",
     "text": [
      "<class 'pandas.core.frame.DataFrame'>\n",
      "Int64Index: 34549 entries, 3 to 84545\n",
      "Data columns (total 60 columns):\n",
      " #   Column                                                                Non-Null Count  Dtype\n",
      "---  ------                                                                --------------  -----\n",
      " 0   BOROUGH_1                                                             34549 non-null  uint8\n",
      " 1   BOROUGH_2                                                             34549 non-null  uint8\n",
      " 2   BOROUGH_3                                                             34549 non-null  uint8\n",
      " 3   BOROUGH_4                                                             34549 non-null  uint8\n",
      " 4   BOROUGH_5                                                             34549 non-null  uint8\n",
      " 5   BUILDING CLASS CATEGORY_01 ONE FAMILY DWELLINGS                       34549 non-null  uint8\n",
      " 6   BUILDING CLASS CATEGORY_02 TWO FAMILY DWELLINGS                       34549 non-null  uint8\n",
      " 7   BUILDING CLASS CATEGORY_03 THREE FAMILY DWELLINGS                     34549 non-null  uint8\n",
      " 8   BUILDING CLASS CATEGORY_04 TAX CLASS 1 CONDOS                         34549 non-null  uint8\n",
      " 9   BUILDING CLASS CATEGORY_05 TAX CLASS 1 VACANT LAND                    34549 non-null  uint8\n",
      " 10  BUILDING CLASS CATEGORY_06 TAX CLASS 1 - OTHER                        34549 non-null  uint8\n",
      " 11  BUILDING CLASS CATEGORY_07 RENTALS - WALKUP APARTMENTS                34549 non-null  uint8\n",
      " 12  BUILDING CLASS CATEGORY_08 RENTALS - ELEVATOR APARTMENTS              34549 non-null  uint8\n",
      " 13  BUILDING CLASS CATEGORY_09 COOPS - WALKUP APARTMENTS                  34549 non-null  uint8\n",
      " 14  BUILDING CLASS CATEGORY_10 COOPS - ELEVATOR APARTMENTS                34549 non-null  uint8\n",
      " 15  BUILDING CLASS CATEGORY_11 SPECIAL CONDO BILLING LOTS                 34549 non-null  uint8\n",
      " 16  BUILDING CLASS CATEGORY_11A CONDO-RENTALS                             34549 non-null  uint8\n",
      " 17  BUILDING CLASS CATEGORY_12 CONDOS - WALKUP APARTMENTS                 34549 non-null  uint8\n",
      " 18  BUILDING CLASS CATEGORY_13 CONDOS - ELEVATOR APARTMENTS               34549 non-null  uint8\n",
      " 19  BUILDING CLASS CATEGORY_14 RENTALS - 4-10 UNIT                        34549 non-null  uint8\n",
      " 20  BUILDING CLASS CATEGORY_15 CONDOS - 2-10 UNIT RESIDENTIAL             34549 non-null  uint8\n",
      " 21  BUILDING CLASS CATEGORY_16 CONDOS - 2-10 UNIT WITH COMMERCIAL UNIT    34549 non-null  uint8\n",
      " 22  BUILDING CLASS CATEGORY_17 CONDO COOPS                                34549 non-null  uint8\n",
      " 23  BUILDING CLASS CATEGORY_21 OFFICE BUILDINGS                           34549 non-null  uint8\n",
      " 24  BUILDING CLASS CATEGORY_22 STORE BUILDINGS                            34549 non-null  uint8\n",
      " 25  BUILDING CLASS CATEGORY_23 LOFT BUILDINGS                             34549 non-null  uint8\n",
      " 26  BUILDING CLASS CATEGORY_26 OTHER HOTELS                               34549 non-null  uint8\n",
      " 27  BUILDING CLASS CATEGORY_27 FACTORIES                                  34549 non-null  uint8\n",
      " 28  BUILDING CLASS CATEGORY_28 COMMERCIAL CONDOS                          34549 non-null  uint8\n",
      " 29  BUILDING CLASS CATEGORY_29 COMMERCIAL GARAGES                         34549 non-null  uint8\n",
      " 30  BUILDING CLASS CATEGORY_30 WAREHOUSES                                 34549 non-null  uint8\n",
      " 31  BUILDING CLASS CATEGORY_31 COMMERCIAL VACANT LAND                     34549 non-null  uint8\n",
      " 32  BUILDING CLASS CATEGORY_32 HOSPITAL AND HEALTH FACILITIES             34549 non-null  uint8\n",
      " 33  BUILDING CLASS CATEGORY_33 EDUCATIONAL FACILITIES                     34549 non-null  uint8\n",
      " 34  BUILDING CLASS CATEGORY_35 INDOOR PUBLIC AND CULTURAL FACILITIES      34549 non-null  uint8\n",
      " 35  BUILDING CLASS CATEGORY_36 OUTDOOR RECREATIONAL FACILITIES            34549 non-null  uint8\n",
      " 36  BUILDING CLASS CATEGORY_37 RELIGIOUS FACILITIES                       34549 non-null  uint8\n",
      " 37  BUILDING CLASS CATEGORY_38 ASYLUMS AND HOMES                          34549 non-null  uint8\n",
      " 38  BUILDING CLASS CATEGORY_39 TRANSPORTATION FACILITIES                  34549 non-null  uint8\n",
      " 39  BUILDING CLASS CATEGORY_41 TAX CLASS 4 - OTHER                        34549 non-null  uint8\n",
      " 40  BUILDING CLASS CATEGORY_42 CONDO CULTURAL/MEDICAL/EDUCATIONAL/ETC     34549 non-null  uint8\n",
      " 41  BUILDING CLASS CATEGORY_43 CONDO OFFICE BUILDINGS                     34549 non-null  uint8\n",
      " 42  BUILDING CLASS CATEGORY_44 CONDO PARKING                              34549 non-null  uint8\n",
      " 43  BUILDING CLASS CATEGORY_46 CONDO STORE BUILDINGS                      34549 non-null  uint8\n",
      " 44  BUILDING CLASS CATEGORY_48 CONDO TERRACES/GARDENS/CABANAS             34549 non-null  uint8\n",
      " 45  TAX CLASS AT PRESENT_                                                 34549 non-null  uint8\n",
      " 46  TAX CLASS AT PRESENT_1                                                34549 non-null  uint8\n",
      " 47  TAX CLASS AT PRESENT_1A                                               34549 non-null  uint8\n",
      " 48  TAX CLASS AT PRESENT_1B                                               34549 non-null  uint8\n",
      " 49  TAX CLASS AT PRESENT_1C                                               34549 non-null  uint8\n",
      " 50  TAX CLASS AT PRESENT_2                                                34549 non-null  uint8\n",
      " 51  TAX CLASS AT PRESENT_2A                                               34549 non-null  uint8\n",
      " 52  TAX CLASS AT PRESENT_2B                                               34549 non-null  uint8\n",
      " 53  TAX CLASS AT PRESENT_2C                                               34549 non-null  uint8\n",
      " 54  TAX CLASS AT PRESENT_3                                                34549 non-null  uint8\n",
      " 55  TAX CLASS AT PRESENT_4                                                34549 non-null  uint8\n",
      " 56  TAX CLASS AT TIME OF SALE_1                                           34549 non-null  uint8\n",
      " 57  TAX CLASS AT TIME OF SALE_2                                           34549 non-null  uint8\n",
      " 58  TAX CLASS AT TIME OF SALE_3                                           34549 non-null  uint8\n",
      " 59  TAX CLASS AT TIME OF SALE_4                                           34549 non-null  uint8\n",
      "dtypes: uint8(60)\n",
      "memory usage: 2.2 MB\n"
     ]
    }
   ],
   "source": [
    "# Convert categorical variables into dummy/indicator variables (i.e. one-hot encoding).\n",
    "\n",
    "one_hot_encoded = pd.get_dummies(df[one_hot_features])\n",
    "one_hot_encoded.info(verbose=True, memory_usage=True, null_counts=True)\n"
   ]
  },
  {
   "cell_type": "code",
   "execution_count": 25,
   "metadata": {},
   "outputs": [],
   "source": [
    "# Replacing categorical columns with dummies\n",
    "\n",
    "df = df.drop(one_hot_features,axis=1)\n",
    "df = pd.concat([df, one_hot_encoded] ,axis=1)"
   ]
  },
  {
   "cell_type": "code",
   "execution_count": 26,
   "metadata": {},
   "outputs": [
    {
     "data": {
      "text/plain": [
       "(34549, 70)"
      ]
     },
     "execution_count": 26,
     "metadata": {},
     "output_type": "execute_result"
    }
   ],
   "source": [
    "df.shape"
   ]
  },
  {
   "cell_type": "markdown",
   "metadata": {},
   "source": [
    "### Train/Test Split"
   ]
  },
  {
   "cell_type": "code",
   "execution_count": 27,
   "metadata": {},
   "outputs": [
    {
     "data": {
      "text/plain": [
       "((34549, 69), (34549,))"
      ]
     },
     "execution_count": 27,
     "metadata": {},
     "output_type": "execute_result"
    }
   ],
   "source": [
    "Y_df = df['SALE PRICE'] \n",
    "X_df = df.drop('SALE PRICE', axis=1)\n",
    "\n",
    "X_df.shape , Y_df.shape"
   ]
  },
  {
   "cell_type": "code",
   "execution_count": 28,
   "metadata": {},
   "outputs": [
    {
     "name": "stdout",
     "output_type": "stream",
     "text": [
      "(24184, 69)\n",
      "(24184,)\n"
     ]
    }
   ],
   "source": [
    "X_train ,X_test, Y_train , Y_test = train_test_split(X_df , Y_df , test_size = 0.3 , random_state =34)\n",
    "\n",
    "print(X_train.shape)\n",
    "print(Y_train.shape)"
   ]
  },
  {
   "cell_type": "markdown",
   "metadata": {},
   "source": [
    "# 4. Modelling"
   ]
  },
  {
   "cell_type": "code",
   "execution_count": 29,
   "metadata": {},
   "outputs": [],
   "source": [
    "# Root mean squared error RMSE\n",
    "\n",
    "def rmse(y_test,y_pred):\n",
    "      return np.sqrt(mean_squared_error(y_test,y_pred))"
   ]
  },
  {
   "cell_type": "markdown",
   "metadata": {},
   "source": [
    "### 4.1 Linear Regression"
   ]
  },
  {
   "cell_type": "code",
   "execution_count": 31,
   "metadata": {},
   "outputs": [
    {
     "data": {
      "text/plain": [
       "331858412.2559898"
      ]
     },
     "execution_count": 31,
     "metadata": {},
     "output_type": "execute_result"
    }
   ],
   "source": [
    "linreg = LinearRegression()\n",
    "\n",
    "linreg.fit(X_train, Y_train)\n",
    "\n",
    "Y_pred_lin = linreg.predict(X_test)\n",
    "\n",
    "rmse(Y_test,Y_pred_lin)"
   ]
  },
  {
   "cell_type": "markdown",
   "metadata": {},
   "source": [
    "### 4.2. Lasso Regression"
   ]
  },
  {
   "cell_type": "code",
   "execution_count": 32,
   "metadata": {},
   "outputs": [
    {
     "name": "stdout",
     "output_type": "stream",
     "text": [
      "0.001\n",
      "0.3566915695050561\n"
     ]
    }
   ],
   "source": [
    "\n",
    "alphas = np.array([5, 0.5, 0.05, 0.005, 0.0005, 1, 0.1, 0.01, 0.001, 0.0001, 0 , 10, 20 ])\n",
    "\n",
    "model = Lasso()\n",
    "\n",
    "grid = GridSearchCV(estimator=model, param_grid=dict(alpha=alphas))\n",
    "\n",
    "grid.fit(X_train, Y_train)\n",
    "\n",
    "print(grid.best_estimator_.alpha)\n",
    "print(grid.best_score_)"
   ]
  },
  {
   "cell_type": "code",
   "execution_count": 33,
   "metadata": {},
   "outputs": [
    {
     "data": {
      "text/plain": [
       "0.8050339639473892"
      ]
     },
     "execution_count": 33,
     "metadata": {},
     "output_type": "execute_result"
    }
   ],
   "source": [
    "alpha = grid.best_estimator_.alpha\n",
    "\n",
    "lasso_regr=Lasso(alpha=alpha,max_iter=50000)\n",
    "lasso_regr.fit(X_train, Y_train)\n",
    "Y_pred_lasso=lasso_regr.predict(X_test)\n",
    "rmse(Y_test,Y_pred_lasso)"
   ]
  },
  {
   "cell_type": "markdown",
   "metadata": {},
   "source": [
    "### 4.3. Ridge Regression"
   ]
  },
  {
   "cell_type": "code",
   "execution_count": 34,
   "metadata": {},
   "outputs": [
    {
     "name": "stdout",
     "output_type": "stream",
     "text": [
      "1\n",
      "0.02009555056343959\n"
     ]
    }
   ],
   "source": [
    "alphas = [1e-15, 1e-10, 1e-8, 1e-4, 1e-3,1e-2, 1]\n",
    "\n",
    "model = Ridge()\n",
    "\n",
    "grid = GridSearchCV(estimator=model, param_grid=dict(alpha=alphas))\n",
    "\n",
    "grid.fit(X_train, Y_train)\n",
    "\n",
    "print(grid.best_estimator_.alpha)\n",
    "print(grid.best_score_)"
   ]
  },
  {
   "cell_type": "code",
   "execution_count": 35,
   "metadata": {},
   "outputs": [
    {
     "data": {
      "text/plain": [
       "0.8671966518954299"
      ]
     },
     "execution_count": 35,
     "metadata": {},
     "output_type": "execute_result"
    }
   ],
   "source": [
    "best_alpha = grid.best_estimator_.alpha\n",
    "\n",
    "ridge = Ridge(best_alpha, normalize=True)\n",
    "ridge.fit(X_train, Y_train)\n",
    "Y_pred_ridge = ridge.predict(X_test)\n",
    "rmse(Y_test,Y_pred_ridge)"
   ]
  },
  {
   "cell_type": "markdown",
   "metadata": {},
   "source": [
    "### 4.4. RandomForest Regressor"
   ]
  },
  {
   "cell_type": "code",
   "execution_count": 67,
   "metadata": {},
   "outputs": [
    {
     "name": "stdout",
     "output_type": "stream",
     "text": [
      "{'n_estimators': [50, 100, 200, 300, 500, 700, 1000], 'max_features': ['auto', 'sqrt'], 'max_depth': [10, 20, 30, 40, 50], 'min_samples_split': [2, 5, 10, 20], 'min_samples_leaf': [1, 2, 4]}\n"
     ]
    }
   ],
   "source": [
    "# Number of trees in random forest\n",
    "n_estimators = [50,100,200,300,500,700,1000]\n",
    "\n",
    "# Number of features to consider at every split\n",
    "max_features = ['auto', 'sqrt']\n",
    "\n",
    "# Maximum number of levels in tree\n",
    "max_depth = [10,20,30,40,50]\n",
    "\n",
    "# Minimum number of samples required to split a node\n",
    "min_samples_split = [2, 5, 10, 20]\n",
    "\n",
    "# Minimum number of samples required at each leaf node\n",
    "min_samples_leaf = [1, 2, 4]\n",
    "\n",
    "# Method of selecting samples for training each tree\n",
    "#bootstrap = [True, False]\n",
    "\n",
    "# Create the random grid\n",
    "random_grid = {'n_estimators': n_estimators,\n",
    "               'max_features': max_features,\n",
    "               'max_depth': max_depth,\n",
    "               'min_samples_split': min_samples_split,\n",
    "               'min_samples_leaf': min_samples_leaf}\n",
    "\n",
    "print(random_grid)"
   ]
  },
  {
   "cell_type": "code",
   "execution_count": 37,
   "metadata": {},
   "outputs": [
    {
     "ename": "NameError",
     "evalue": "name 'n_estimators' is not defined",
     "output_type": "error",
     "traceback": [
      "\u001b[1;31m---------------------------------------------------------------------------\u001b[0m",
      "\u001b[1;31mNameError\u001b[0m                                 Traceback (most recent call last)",
      "\u001b[1;32m<ipython-input-37-0b74bf8b325f>\u001b[0m in \u001b[0;36m<module>\u001b[1;34m\u001b[0m\n\u001b[0;32m      1\u001b[0m \u001b[1;31m# Create the random grid\u001b[0m\u001b[1;33m\u001b[0m\u001b[1;33m\u001b[0m\u001b[1;33m\u001b[0m\u001b[0m\n\u001b[1;32m----> 2\u001b[1;33m random_grid = {'n_estimators': n_estimators,\n\u001b[0m\u001b[0;32m      3\u001b[0m                \u001b[1;34m'max_features'\u001b[0m\u001b[1;33m:\u001b[0m \u001b[0mmax_features\u001b[0m\u001b[1;33m,\u001b[0m\u001b[1;33m\u001b[0m\u001b[1;33m\u001b[0m\u001b[0m\n\u001b[0;32m      4\u001b[0m                \u001b[1;34m'max_depth'\u001b[0m\u001b[1;33m:\u001b[0m \u001b[0mmax_depth\u001b[0m\u001b[1;33m,\u001b[0m\u001b[1;33m\u001b[0m\u001b[1;33m\u001b[0m\u001b[0m\n\u001b[0;32m      5\u001b[0m                \u001b[1;34m'min_samples_split'\u001b[0m\u001b[1;33m:\u001b[0m \u001b[0mmin_samples_split\u001b[0m\u001b[1;33m,\u001b[0m\u001b[1;33m\u001b[0m\u001b[1;33m\u001b[0m\u001b[0m\n",
      "\u001b[1;31mNameError\u001b[0m: name 'n_estimators' is not defined"
     ]
    }
   ],
   "source": [
    "# Use the random grid to search for best hyperparameters\n",
    "# First create the base model to tune\n",
    "rf = RandomForestRegressor()\n",
    "\n",
    "# Random search of parameters, using 3 fold cross validation, \n",
    "# search across 100 different combinations, and use all available cores\n",
    "rf_random = RandomizedSearchCV(estimator = rf, param_distributions = random_grid, n_iter = 100, cv = 3, \n",
    "                               verbose=2, random_state=42, n_jobs = -1)\n",
    "\n",
    "# Fit the random search model\n",
    "rf_random.fit(X_train, Y_train)\n",
    "\n",
    "print(rf_random.best_params_)"
   ]
  },
  {
   "cell_type": "code",
   "execution_count": 38,
   "metadata": {},
   "outputs": [
    {
     "data": {
      "text/plain": [
       "0.5678473366297823"
      ]
     },
     "execution_count": 38,
     "metadata": {},
     "output_type": "execute_result"
    }
   ],
   "source": [
    "rf_regr = RandomForestRegressor(n_estimators = 1000, min_samples_split = 5, min_samples_leaf = 2, \n",
    "                                max_features = 'auto', max_depth = 20, n_jobs = -1)\n",
    "\n",
    "rf_regr.fit(X_train, Y_train)\n",
    "Y_pred_rf = rf_regr.predict(X_test)\n",
    "rmse(Y_test,Y_pred_rf)"
   ]
  },
  {
   "cell_type": "markdown",
   "metadata": {},
   "source": [
    "### 4.5 XGBRegressor"
   ]
  },
  {
   "cell_type": "code",
   "execution_count": 77,
   "metadata": {},
   "outputs": [
    {
     "name": "stdout",
     "output_type": "stream",
     "text": [
      "Fitting 3 folds for each of 9 candidates, totalling 27 fits\n"
     ]
    },
    {
     "name": "stderr",
     "output_type": "stream",
     "text": [
      "[Parallel(n_jobs=-1)]: Using backend LokyBackend with 4 concurrent workers.\n",
      "[Parallel(n_jobs=-1)]: Done  27 out of  27 | elapsed:  7.9min finished\n"
     ]
    },
    {
     "name": "stdout",
     "output_type": "stream",
     "text": [
      "[21:48:58] WARNING: C:/Users/Administrator/workspace/xgboost-win64_release_1.1.0/src/objective/regression_obj.cu:170: reg:linear is now deprecated in favor of reg:squarederror.\n",
      "[21:48:59] WARNING: C:\\Users\\Administrator\\workspace\\xgboost-win64_release_1.1.0\\src\\learner.cc:480: \n",
      "Parameters: { silent } might not be used.\n",
      "\n",
      "  This may not be accurate due to some parameters are only used in language bindings but\n",
      "  passed down to XGBoost core.  Or some parameters are not used but slip through this\n",
      "  verification. Please open an issue if you find above cases.\n",
      "\n",
      "\n",
      "[21:49:31] WARNING: C:/Users/Administrator/workspace/xgboost-win64_release_1.1.0/src/objective/regression_obj.cu:170: reg:linear is now deprecated in favor of reg:squarederror.\n",
      "0.6601634177090184\n",
      "{'subsample': 0.7, 'silent': 1, 'objective': 'reg:linear', 'nthread': 4, 'n_estimators': 500, 'min_child_weight': 4, 'max_depth': 7, 'learning_rate': 0.03, 'colsample_bytree': 0.7}\n"
     ]
    }
   ],
   "source": [
    "# Various hyper-parameters to tune\n",
    "xgb1 = XGBRegressor()\n",
    "\n",
    "parameters = {'nthread':[4], #when use hyperthread, xgboost may become slower\n",
    "              'objective':['reg:linear'],\n",
    "              'learning_rate': [.03, 0.05, .07], # called `eta` value\n",
    "              'max_depth': [5, 6, 7],\n",
    "              'min_child_weight': [4],\n",
    "              'subsample': [0.7],\n",
    "              'colsample_bytree': [0.7],\n",
    "              'n_estimators': [500]}\n",
    "\n",
    "xgb_grid = RandomizedSearchCV(estimator = xgb1,\n",
    "                            param_distributions = parameters,\n",
    "                            cv = 3,\n",
    "                            n_jobs = -1,\n",
    "                            random_state=42,\n",
    "                            verbose=True)\n",
    "\n",
    "xgb_grid.fit(X_train,Y_train)\n",
    "\n",
    "print(xgb_grid.best_score_)\n",
    "print(xgb_grid.best_params_)"
   ]
  },
  {
   "cell_type": "code",
   "execution_count": 39,
   "metadata": {},
   "outputs": [
    {
     "data": {
      "text/plain": [
       "0.5671945902944977"
      ]
     },
     "execution_count": 39,
     "metadata": {},
     "output_type": "execute_result"
    }
   ],
   "source": [
    "xgb2 = XGBRegressor(subsample = 0.7, \n",
    "                    objective = 'reg:squarederror', \n",
    "                    nthread = 4, \n",
    "                    n_estimators = 500, \n",
    "                    min_child_weight = 4, \n",
    "                    max_depth = 7, \n",
    "                    learning_rate = 0.03, \n",
    "                    colsample_bytree = 0.7)\n",
    "\n",
    "xgb2.fit(X_train, Y_train)\n",
    "\n",
    "Y_pred_xgb = xgb2.predict(X_test)\n",
    "\n",
    "rmse(Y_test,Y_pred_xgb)"
   ]
  },
  {
   "cell_type": "code",
   "execution_count": 40,
   "metadata": {},
   "outputs": [
    {
     "name": "stdout",
     "output_type": "stream",
     "text": [
      "+-----------------------+-------------------+\n",
      "|         Model         |        RMSE       |\n",
      "+-----------------------+-------------------+\n",
      "|    LinearRegression   | 331858412.2559898 |\n",
      "|    LassoRegression    |       0.805       |\n",
      "|    RidgeRegression    |       0.8671      |\n",
      "| RandomForestRegressor |       0.5671      |\n",
      "|      XGBRegressor     |       0.5671      |\n",
      "+-----------------------+-------------------+\n"
     ]
    }
   ],
   "source": [
    "### Summary\n",
    "\n",
    "tab = PrettyTable()\n",
    "tab.field_names = [\"Model\", \"RMSE\"]\n",
    "\n",
    "tab.add_row([\"LinearRegression\", 331858412.2559898])\n",
    "tab.add_row([\"LassoRegression\", 0.8050])\n",
    "tab.add_row([\"RidgeRegression\", 0.8671])\n",
    "tab.add_row([\"RandomForestRegressor\", 0.5671])\n",
    "tab.add_row([\"XGBRegressor\", 0.5671])\n",
    "\n",
    "print(tab)\n"
   ]
  },
  {
   "cell_type": "markdown",
   "metadata": {},
   "source": [
    "# 5. Conclusion \n",
    "    \n",
    "RandomForest Regressor works best for this dataset"
   ]
  }
 ],
 "metadata": {
  "kernelspec": {
   "display_name": "Python 3",
   "language": "python",
   "name": "python3"
  },
  "language_info": {
   "codemirror_mode": {
    "name": "ipython",
    "version": 3
   },
   "file_extension": ".py",
   "mimetype": "text/x-python",
   "name": "python",
   "nbconvert_exporter": "python",
   "pygments_lexer": "ipython3",
   "version": "3.8.3"
  }
 },
 "nbformat": 4,
 "nbformat_minor": 4
}
